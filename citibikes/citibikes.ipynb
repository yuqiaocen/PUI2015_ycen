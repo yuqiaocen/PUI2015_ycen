{
 "cells": [
  {
   "cell_type": "markdown",
   "metadata": {},
   "source": [
    "# Homework 3 \n",
    "## Assignment 3"
   ]
  },
  {
   "cell_type": "markdown",
   "metadata": {},
   "source": [
    "### Idea\n",
    "The bike durations of people under 60 are longer than the durations of people over 60.\n",
    "### Null Hypothesis\n",
    "The bike durations of people under 60 are longer than or equal to the durations of people over 60.\n",
    "### Alternative Hypothesis\n",
    "The bike durations of people under 60 are shorter than the durations of people over 60.\n",
    "### Significance Level:\n",
    "α=0.05"
   ]
  },
  {
   "cell_type": "code",
   "execution_count": 14,
   "metadata": {
    "collapsed": false
   },
   "outputs": [
    {
     "name": "stdout",
     "output_type": "stream",
     "text": [
      "Populating the interactive namespace from numpy and matplotlib\n",
      "Index([u'tripduration', u'starttime', u'stoptime', u'start station id',\n",
      "       u'start station name', u'start station latitude',\n",
      "       u'start station longitude', u'end station id', u'end station name',\n",
      "       u'end station latitude', u'end station longitude', u'bikeid',\n",
      "       u'usertype', u'birth year', u'gender'],\n",
      "      dtype='object')\n"
     ]
    }
   ],
   "source": [
    "import pylab as pl\n",
    "import pandas as pd\n",
    "import numpy as np\n",
    "%pylab inline\n",
    "\n",
    "df = pd.read_csv('/Users/QCathy/Downloads/201502-citibike-tripdata.csv')\n",
    "print df.columns"
   ]
  },
  {
   "cell_type": "code",
   "execution_count": 15,
   "metadata": {
    "collapsed": false
   },
   "outputs": [],
   "source": [
    "# When a person travel over 2700 seconds, he or she may be punished. So we eliminate the data that with the tripduration of 2700 seconds.\n",
    "# I defind 'tridU' as the tripduration of people under 60 and 'tridO' as the tripduration of people over 60.\n",
    "df['tridU'] = df['tripduration'][(2015-df['birth year'] < 60)&(df['usertype'] == 'Subscriber')&(df['tripduration'] <= 2700)]\n",
    "df['tridO'] = df['tripduration'][(2015-df['birth year'] >= 60)&(df['usertype'] == 'Subscriber')&(df['tripduration'] <= 2700)]"
   ]
  },
  {
   "cell_type": "code",
   "execution_count": 16,
   "metadata": {
    "collapsed": false
   },
   "outputs": [
    {
     "data": {
      "text/plain": [
       "<matplotlib.axes._subplots.AxesSubplot at 0x107eb0610>"
      ]
     },
     "execution_count": 16,
     "metadata": {},
     "output_type": "execute_result"
    },
    {
     "data": {
      "image/png": "[encoded data removed]",
      "text/plain": [
       "<matplotlib.figure.Figure at 0x1078e6550>"
      ]
     },
     "metadata": {},
     "output_type": "display_data"
    },
    {
     "data": {
      "image/png": "[encoded data removed]",
      "text/plain": [
       "<matplotlib.figure.Figure at 0x1078e6c50>"
      ]
     },
     "metadata": {},
     "output_type": "display_data"
    }
   ],
   "source": [
    "bins = np.arange(0,2700,400)\n",
    "df.tridU.groupby(pd.cut(df.tridU, bins)).agg([count_nonzero]).plot(kind='bar', color = 'IndianRed')\n",
    "df.tridO.groupby(pd.cut(df.tridO, bins)).agg([count_nonzero]).plot(kind='bar', color = 'Skyblue')"
   ]
  },
  {
   "cell_type": "code",
   "execution_count": 17,
   "metadata": {
    "collapsed": false
   },
   "outputs": [
    {
     "name": "stdout",
     "output_type": "stream",
     "text": [
      "599.572713117\n"
     ]
    }
   ],
   "source": [
    "tridU_mean = mean(df['tridU'])\n",
    "print tridU_mean"
   ]
  },
  {
   "cell_type": "code",
   "execution_count": 18,
   "metadata": {
    "collapsed": false
   },
   "outputs": [
    {
     "name": "stdout",
     "output_type": "stream",
     "text": [
      "698.35729443\n"
     ]
    }
   ],
   "source": [
    "tridO_mean = mean(df['tridO'])\n",
    "print tridO_mean"
   ]
  },
  {
   "cell_type": "markdown",
   "metadata": {},
   "source": [
    "### In this problem we will apply Welch's t-test, which is used when the two population variances are not assumed to be equal and hence must be estimated separately. The t-statistic $$t = {\\; \\overline{X}_1 - \\overline{X}_2 \\; \\over \\sqrt{ \\; {s_1^2 \\over N_1} \\; + \\; {s_2^2 \\over N_2} \\quad }}$$"
   ]
  },
  {
   "cell_type": "code",
   "execution_count": 19,
   "metadata": {
    "collapsed": false
   },
   "outputs": [
    {
     "name": "stdout",
     "output_type": "stream",
     "text": [
      "185620\n"
     ]
    }
   ],
   "source": [
    "# calculate mean and variance\n",
    "\n",
    "tridO_count = np.count_nonzero(np.isnan(df['tridO']))\n",
    "tridU_count = np.count_nonzero(np.isnan(df['tridU']))\n",
    "tridO_mean = mean(df['tridO'])\n",
    "tridU_mean = mean(df['tridU'])\n",
    "tridO_var = var(df['tridO'])\n",
    "tridU_var = var(df['tridU'])\n",
    "print tridO_count"
   ]
  },
  {
   "cell_type": "code",
   "execution_count": 20,
   "metadata": {
    "collapsed": false
   },
   "outputs": [
    {
     "name": "stdout",
     "output_type": "stream",
     "text": [
      "29.2838826472\n"
     ]
    }
   ],
   "source": [
    "# calculate t-statistic\n",
    "t = ( tridO_mean - tridU_mean ) / np.sqrt( tridO_var / tridO_count + tridU_var / tridU_count )\n",
    "print t"
   ]
  },
  {
   "cell_type": "markdown",
   "metadata": {},
   "source": [
    "### Since t>1.65 (this is an one-side test), we can reject the null hypothesis."
   ]
  },
  {
   "cell_type": "code",
   "execution_count": null,
   "metadata": {
    "collapsed": true
   },
   "outputs": [],
   "source": []
  }
 ],
 "metadata": {
  "kernelspec": {
   "display_name": "Python 2",
   "language": "python",
   "name": "python2"
  },
  "language_info": {
   "codemirror_mode": {
    "name": "ipython",
    "version": 2
   },
   "file_extension": ".py",
   "mimetype": "text/x-python",
   "name": "python",
   "nbconvert_exporter": "python",
   "pygments_lexer": "ipython2",
   "version": "2.7.10"
  }
 },
 "nbformat": 4,
 "nbformat_minor": 0
}
